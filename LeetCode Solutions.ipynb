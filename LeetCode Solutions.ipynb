{
 "cells": [
  {
   "cell_type": "code",
   "execution_count": null,
   "metadata": {},
   "outputs": [],
   "source": [
    "#1 Two Sum\n",
    "class Solution(object):\n",
    "    def twoSum(self, nums, target):\n",
    "        \"\"\"\n",
    "        :type nums: List[int]\n",
    "        :type target: int\n",
    "        :rtype: List[int]\n",
    "        \"\"\"\n",
    "        seen = {}\n",
    "        \n",
    "        for index, num in enumerate(nums):\n",
    "            other = target - num\n",
    "            if other in seen:\n",
    "                return [seen[other],index]\n",
    "            else:\n",
    "                seen[num] = index\n",
    "                \n",
    "        return"
   ]
  },
  {
   "cell_type": "code",
   "execution_count": null,
   "metadata": {},
   "outputs": [],
   "source": [
    "#3 Longest Substring Without Repeating Characters\n",
    "class Solution(object):\n",
    "    def lengthOfLongestSubstring(self, s):\n",
    "        \"\"\"\n",
    "        :type s: str\n",
    "        :rtype: int\n",
    "        \"\"\"\n",
    "        d = \"\"\n",
    "        f = \"\"\n",
    "        for i in range(len(s)):\n",
    "            if s[i] not in f:\n",
    "                f += s[i]\n",
    "            else:\n",
    "                if len(d) < len(f):\n",
    "                    d = f\n",
    "                f = f[f.index(s[i])+1::] + s[i]\n",
    "              \n",
    "        return max(len(d), len(f))\n"
   ]
  },
  {
   "cell_type": "code",
   "execution_count": null,
   "metadata": {},
   "outputs": [],
   "source": [
    "#4. Median of Two Sorted Arrays\n",
    "class Solution(object):\n",
    "    def findMedianSortedArrays(self, nums1, nums2):\n",
    "        \"\"\"\n",
    "        :type nums1: List[int]\n",
    "        :type nums2: List[int]\n",
    "        :rtype: float\n",
    "        \"\"\"\n",
    "        nums = nums1 + nums2\n",
    "        nums.sort()\n",
    "        \n",
    "        N = len(nums)\n",
    "        print(N)\n",
    "        if N % 2 ==1:\n",
    "            median = int(nums[int((N-1)/2)])\n",
    "        else:\n",
    "            median = (int(nums[int(N/2)])+int(nums[int(N/2-1)])) / 2.0\n",
    "        \n",
    "        return(median)"
   ]
  },
  {
   "cell_type": "code",
   "execution_count": null,
   "metadata": {},
   "outputs": [],
   "source": [
    "# 11. Container With Most Water\n",
    "class Solution(object):\n",
    "    def maxArea(self, height):\n",
    "        \"\"\"\n",
    "        :type height: List[int]\n",
    "        :rtype: int\n",
    "        \"\"\"\n",
    "        l,r,_maxs = 0,len(height) - 1,0\n",
    "        while l < r:\n",
    "        \t_maxs = max((r - l) * min(height[l],height[r]),_maxs)\n",
    "        \tif height[l] < height[r]:\n",
    "        \t\tl += 1\n",
    "        \telse:\n",
    "        \t\tr -= 1\n",
    "        return _maxs"
   ]
  },
  {
   "cell_type": "code",
   "execution_count": null,
   "metadata": {},
   "outputs": [],
   "source": [
    "# 26. Remove Duplicates from Sorted Array\n",
    "class Solution(object):\n",
    "    def removeDuplicates(self, nums):\n",
    "        \"\"\"\n",
    "        :type nums: List[int]\n",
    "        :rtype: int\n",
    "        \"\"\"\n",
    "        \n",
    "        nums[:] = list(dict.fromkeys(nums))\n",
    "        nums.sort()        \n",
    "        return len(nums)\n"
   ]
  },
  {
   "cell_type": "code",
   "execution_count": null,
   "metadata": {},
   "outputs": [],
   "source": [
    "# 28. Implement strStr()\n",
    "class Solution(object):\n",
    "    def strStr(self, haystack, needle):\n",
    "        \"\"\"\n",
    "        :type haystack: str\n",
    "        :type needle: str\n",
    "        :rtype: int\n",
    "        \"\"\"\n",
    "        if needle in haystack:\n",
    "            return haystack.index(needle)\n",
    "        else:\n",
    "            return -1"
   ]
  }
 ],
 "metadata": {
  "kernelspec": {
   "display_name": "Python 3",
   "language": "python",
   "name": "python3"
  },
  "language_info": {
   "codemirror_mode": {
    "name": "ipython",
    "version": 3
   },
   "file_extension": ".py",
   "mimetype": "text/x-python",
   "name": "python",
   "nbconvert_exporter": "python",
   "pygments_lexer": "ipython3",
   "version": "3.7.3"
  }
 },
 "nbformat": 4,
 "nbformat_minor": 2
}
